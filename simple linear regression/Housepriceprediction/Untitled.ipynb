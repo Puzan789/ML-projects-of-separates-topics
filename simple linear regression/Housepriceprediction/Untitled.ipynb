{
 "cells": [
  {
   "cell_type": "code",
   "execution_count": 10,
   "id": "8e78898d",
   "metadata": {},
   "outputs": [],
   "source": [
    "import pandas as pd\n",
    "import matplotlib.pyplot as plt\n",
    "import numpy as np \n",
    "from sklearn.model_selection import train_test_split\n",
    "from sklearn.linear_model import LinearRegression"
   ]
  },
  {
   "cell_type": "code",
   "execution_count": 3,
   "id": "fcd64260",
   "metadata": {},
   "outputs": [],
   "source": [
    "df=pd.read_csv(\"data.csv\")"
   ]
  },
  {
   "cell_type": "code",
   "execution_count": 8,
   "id": "15738407",
   "metadata": {},
   "outputs": [],
   "source": [
    "X=df[['bedrooms']]\n",
    "y=df[['price']]"
   ]
  },
  {
   "cell_type": "code",
   "execution_count": 9,
   "id": "4539d069",
   "metadata": {},
   "outputs": [
    {
     "data": {
      "text/plain": [
       "(      bedrooms\n",
       " 0          3.0\n",
       " 1          5.0\n",
       " 2          3.0\n",
       " 3          3.0\n",
       " 4          4.0\n",
       " ...        ...\n",
       " 4595       3.0\n",
       " 4596       3.0\n",
       " 4597       3.0\n",
       " 4598       4.0\n",
       " 4599       3.0\n",
       " \n",
       " [4600 rows x 1 columns],\n",
       "              price\n",
       " 0     3.130000e+05\n",
       " 1     2.384000e+06\n",
       " 2     3.420000e+05\n",
       " 3     4.200000e+05\n",
       " 4     5.500000e+05\n",
       " ...            ...\n",
       " 4595  3.081667e+05\n",
       " 4596  5.343333e+05\n",
       " 4597  4.169042e+05\n",
       " 4598  2.034000e+05\n",
       " 4599  2.206000e+05\n",
       " \n",
       " [4600 rows x 1 columns])"
      ]
     },
     "execution_count": 9,
     "metadata": {},
     "output_type": "execute_result"
    }
   ],
   "source": [
    "X,y"
   ]
  },
  {
   "cell_type": "code",
   "execution_count": 21,
   "id": "7d07ae4a",
   "metadata": {},
   "outputs": [],
   "source": [
    "class helps:\n",
    "    def __init__(self,X,Y):\n",
    "        self.X=X\n",
    "        self.y=Y\n",
    "    def imp(self):\n",
    "        X_train,X_test,Y_train,Y_test=train_test_split(self.X,self.y,test_size=0.3,random_state=30)\n",
    "        regressor=LinearRegression()\n",
    "        regressor.fit(X_train,Y_train)\n",
    "        p=regressor.predict(np.array([[5]]))\n",
    "        return p\n",
    "\n",
    "       "
   ]
  },
  {
   "cell_type": "code",
   "execution_count": 22,
   "id": "21e5068f",
   "metadata": {},
   "outputs": [],
   "source": [
    "n=helps(X,y)"
   ]
  },
  {
   "cell_type": "code",
   "execution_count": 25,
   "id": "a2c50d8e",
   "metadata": {},
   "outputs": [
    {
     "name": "stdout",
     "output_type": "stream",
     "text": [
      "[[747289.16113811]]\n"
     ]
    },
    {
     "name": "stderr",
     "output_type": "stream",
     "text": [
      "C:\\Users\\puzan12\\anaconda3\\Lib\\site-packages\\sklearn\\base.py:439: UserWarning: X does not have valid feature names, but LinearRegression was fitted with feature names\n",
      "  warnings.warn(\n"
     ]
    }
   ],
   "source": [
    "print(n.imp())"
   ]
  },
  {
   "cell_type": "code",
   "execution_count": null,
   "id": "02e10bc7",
   "metadata": {},
   "outputs": [],
   "source": []
  }
 ],
 "metadata": {
  "kernelspec": {
   "display_name": "Python 3 (ipykernel)",
   "language": "python",
   "name": "python3"
  },
  "language_info": {
   "codemirror_mode": {
    "name": "ipython",
    "version": 3
   },
   "file_extension": ".py",
   "mimetype": "text/x-python",
   "name": "python",
   "nbconvert_exporter": "python",
   "pygments_lexer": "ipython3",
   "version": "3.11.3"
  }
 },
 "nbformat": 4,
 "nbformat_minor": 5
}
