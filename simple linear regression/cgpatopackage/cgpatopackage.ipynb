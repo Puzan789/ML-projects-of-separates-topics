{
 "cells": [
  {
   "cell_type": "code",
   "execution_count": 26,
   "metadata": {
    "executionInfo": {
     "elapsed": 449,
     "status": "ok",
     "timestamp": 1696055381294,
     "user": {
      "displayName": "Puzan 76",
      "userId": "11660976575391864271"
     },
     "user_tz": -345
    },
    "id": "LSDBSBRXsi7q"
   },
   "outputs": [],
   "source": [
    "import numpy as np\n",
    "import pandas as pd\n",
    "from sklearn.model_selection import train_test_split\n",
    "from sklearn.linear_model import LinearRegression\n",
    "import matplotlib.pyplot as plt"
   ]
  },
  {
   "cell_type": "code",
   "execution_count": 10,
   "metadata": {
    "executionInfo": {
     "elapsed": 5,
     "status": "ok",
     "timestamp": 1696054803821,
     "user": {
      "displayName": "Puzan 76",
      "userId": "11660976575391864271"
     },
     "user_tz": -345
    },
    "id": "NmLwwmi-twtl"
   },
   "outputs": [],
   "source": [
    "df=pd.read_csv(\"placement.csv\")"
   ]
  },
  {
   "cell_type": "code",
   "execution_count": 31,
   "metadata": {
    "executionInfo": {
     "elapsed": 4,
     "status": "ok",
     "timestamp": 1696055807231,
     "user": {
      "displayName": "Puzan 76",
      "userId": "11660976575391864271"
     },
     "user_tz": -345
    },
    "id": "CADdm9uDtxil"
   },
   "outputs": [],
   "source": [
    "X=df.iloc[:,0:-1].values\n",
    "y=df.iloc[:,1:].values"
   ]
  },
  {
   "cell_type": "code",
   "execution_count": 32,
   "metadata": {
    "executionInfo": {
     "elapsed": 5,
     "status": "ok",
     "timestamp": 1696055809092,
     "user": {
      "displayName": "Puzan 76",
      "userId": "11660976575391864271"
     },
     "user_tz": -345
    },
    "id": "I3g0Ym2Zt4Lx"
   },
   "outputs": [],
   "source": [
    "\n",
    "# splitting the dataset\n",
    "X_train,X_test,Y_train,Y_test=train_test_split(X,y,test_size=0.3,random_state=30)"
   ]
  },
  {
   "cell_type": "code",
   "execution_count": 33,
   "metadata": {
    "colab": {
     "base_uri": "https://localhost:8080/",
     "height": 74
    },
    "executionInfo": {
     "elapsed": 6,
     "status": "ok",
     "timestamp": 1696055810830,
     "user": {
      "displayName": "Puzan 76",
      "userId": "11660976575391864271"
     },
     "user_tz": -345
    },
    "id": "2X08OrhPwrcG",
    "outputId": "c2eb13f0-7a82-4197-e208-e3f5407fe704"
   },
   "outputs": [
    {
     "data": {
      "text/html": [
       "<style>#sk-container-id-2 {color: black;background-color: white;}#sk-container-id-2 pre{padding: 0;}#sk-container-id-2 div.sk-toggleable {background-color: white;}#sk-container-id-2 label.sk-toggleable__label {cursor: pointer;display: block;width: 100%;margin-bottom: 0;padding: 0.3em;box-sizing: border-box;text-align: center;}#sk-container-id-2 label.sk-toggleable__label-arrow:before {content: \"▸\";float: left;margin-right: 0.25em;color: #696969;}#sk-container-id-2 label.sk-toggleable__label-arrow:hover:before {color: black;}#sk-container-id-2 div.sk-estimator:hover label.sk-toggleable__label-arrow:before {color: black;}#sk-container-id-2 div.sk-toggleable__content {max-height: 0;max-width: 0;overflow: hidden;text-align: left;background-color: #f0f8ff;}#sk-container-id-2 div.sk-toggleable__content pre {margin: 0.2em;color: black;border-radius: 0.25em;background-color: #f0f8ff;}#sk-container-id-2 input.sk-toggleable__control:checked~div.sk-toggleable__content {max-height: 200px;max-width: 100%;overflow: auto;}#sk-container-id-2 input.sk-toggleable__control:checked~label.sk-toggleable__label-arrow:before {content: \"▾\";}#sk-container-id-2 div.sk-estimator input.sk-toggleable__control:checked~label.sk-toggleable__label {background-color: #d4ebff;}#sk-container-id-2 div.sk-label input.sk-toggleable__control:checked~label.sk-toggleable__label {background-color: #d4ebff;}#sk-container-id-2 input.sk-hidden--visually {border: 0;clip: rect(1px 1px 1px 1px);clip: rect(1px, 1px, 1px, 1px);height: 1px;margin: -1px;overflow: hidden;padding: 0;position: absolute;width: 1px;}#sk-container-id-2 div.sk-estimator {font-family: monospace;background-color: #f0f8ff;border: 1px dotted black;border-radius: 0.25em;box-sizing: border-box;margin-bottom: 0.5em;}#sk-container-id-2 div.sk-estimator:hover {background-color: #d4ebff;}#sk-container-id-2 div.sk-parallel-item::after {content: \"\";width: 100%;border-bottom: 1px solid gray;flex-grow: 1;}#sk-container-id-2 div.sk-label:hover label.sk-toggleable__label {background-color: #d4ebff;}#sk-container-id-2 div.sk-serial::before {content: \"\";position: absolute;border-left: 1px solid gray;box-sizing: border-box;top: 0;bottom: 0;left: 50%;z-index: 0;}#sk-container-id-2 div.sk-serial {display: flex;flex-direction: column;align-items: center;background-color: white;padding-right: 0.2em;padding-left: 0.2em;position: relative;}#sk-container-id-2 div.sk-item {position: relative;z-index: 1;}#sk-container-id-2 div.sk-parallel {display: flex;align-items: stretch;justify-content: center;background-color: white;position: relative;}#sk-container-id-2 div.sk-item::before, #sk-container-id-2 div.sk-parallel-item::before {content: \"\";position: absolute;border-left: 1px solid gray;box-sizing: border-box;top: 0;bottom: 0;left: 50%;z-index: -1;}#sk-container-id-2 div.sk-parallel-item {display: flex;flex-direction: column;z-index: 1;position: relative;background-color: white;}#sk-container-id-2 div.sk-parallel-item:first-child::after {align-self: flex-end;width: 50%;}#sk-container-id-2 div.sk-parallel-item:last-child::after {align-self: flex-start;width: 50%;}#sk-container-id-2 div.sk-parallel-item:only-child::after {width: 0;}#sk-container-id-2 div.sk-dashed-wrapped {border: 1px dashed gray;margin: 0 0.4em 0.5em 0.4em;box-sizing: border-box;padding-bottom: 0.4em;background-color: white;}#sk-container-id-2 div.sk-label label {font-family: monospace;font-weight: bold;display: inline-block;line-height: 1.2em;}#sk-container-id-2 div.sk-label-container {text-align: center;}#sk-container-id-2 div.sk-container {/* jupyter's `normalize.less` sets `[hidden] { display: none; }` but bootstrap.min.css set `[hidden] { display: none !important; }` so we also need the `!important` here to be able to override the default hidden behavior on the sphinx rendered scikit-learn.org. See: https://github.com/scikit-learn/scikit-learn/issues/21755 */display: inline-block !important;position: relative;}#sk-container-id-2 div.sk-text-repr-fallback {display: none;}</style><div id=\"sk-container-id-2\" class=\"sk-top-container\"><div class=\"sk-text-repr-fallback\"><pre>LinearRegression()</pre><b>In a Jupyter environment, please rerun this cell to show the HTML representation or trust the notebook. <br />On GitHub, the HTML representation is unable to render, please try loading this page with nbviewer.org.</b></div><div class=\"sk-container\" hidden><div class=\"sk-item\"><div class=\"sk-estimator sk-toggleable\"><input class=\"sk-toggleable__control sk-hidden--visually\" id=\"sk-estimator-id-2\" type=\"checkbox\" checked><label for=\"sk-estimator-id-2\" class=\"sk-toggleable__label sk-toggleable__label-arrow\">LinearRegression</label><div class=\"sk-toggleable__content\"><pre>LinearRegression()</pre></div></div></div></div></div>"
      ],
      "text/plain": [
       "LinearRegression()"
      ]
     },
     "execution_count": 33,
     "metadata": {},
     "output_type": "execute_result"
    }
   ],
   "source": [
    "# fitting the data\n",
    "regressor=LinearRegression()\n",
    "regressor.fit(X_train,Y_train)"
   ]
  },
  {
   "cell_type": "code",
   "execution_count": 34,
   "metadata": {
    "colab": {
     "base_uri": "https://localhost:8080/",
     "height": 430
    },
    "executionInfo": {
     "elapsed": 9,
     "status": "ok",
     "timestamp": 1696055813454,
     "user": {
      "displayName": "Puzan 76",
      "userId": "11660976575391864271"
     },
     "user_tz": -345
    },
    "id": "v_do4k-axt1_",
    "outputId": "d5792dc2-e9ff-4e58-d739-991b913c6a53"
   },
   "outputs": [
    {
     "data": {
      "image/png": "[encoded data removed]",
      "text/plain": [
       "<Figure size 640x480 with 1 Axes>"
      ]
     },
     "metadata": {},
     "output_type": "display_data"
    }
   ],
   "source": [
    "# for training data\n",
    "plt.scatter(X_train,Y_train,color=\"red\")\n",
    "plt.plot(X_train,regressor.predict(X_train),color=\"blue\")\n",
    "plt.show()"
   ]
  },
  {
   "cell_type": "code",
   "execution_count": 35,
   "metadata": {
    "colab": {
     "base_uri": "https://localhost:8080/",
     "height": 430
    },
    "executionInfo": {
     "elapsed": 646,
     "status": "ok",
     "timestamp": 1696055816784,
     "user": {
      "displayName": "Puzan 76",
      "userId": "11660976575391864271"
     },
     "user_tz": -345
    },
    "id": "qOFvJXHEyagn",
    "outputId": "8a95f16e-042a-46c9-a3dd-bcbac97e3796"
   },
   "outputs": [
    {
     "data": {
      "image/png": "[encoded data removed]",
      "text/plain": [
       "<Figure size 640x480 with 1 Axes>"
      ]
     },
     "metadata": {},
     "output_type": "display_data"
    }
   ],
   "source": [
    "# for testing data\n",
    "plt.scatter(X_test,Y_test,color=\"red\")\n",
    "plt.plot(X_test,regressor.predict(X_test),color=\"blue\")\n",
    "plt.show()"
   ]
  },
  {
   "cell_type": "code",
   "execution_count": 30,
   "metadata": {
    "colab": {
     "base_uri": "https://localhost:8080/",
     "height": 423
    },
    "executionInfo": {
     "elapsed": 513,
     "status": "ok",
     "timestamp": 1696055733617,
     "user": {
      "displayName": "Puzan 76",
      "userId": "11660976575391864271"
     },
     "user_tz": -345
    },
    "id": "Ab9Yy51-ywt4",
    "outputId": "03863a17-ba5c-4570-845f-7669174a0edf"
   },
   "outputs": [
    {
     "data": {
      "text/html": [
       "\n",
       "  <div id=\"df-141b404b-d00b-489a-9571-f1cbb53e69eb\" class=\"colab-df-container\">\n",
       "    <div>\n",
       "<style scoped>\n",
       "    .dataframe tbody tr th:only-of-type {\n",
       "        vertical-align: middle;\n",
       "    }\n",
       "\n",
       "    .dataframe tbody tr th {\n",
       "        vertical-align: top;\n",
       "    }\n",
       "\n",
       "    .dataframe thead th {\n",
       "        text-align: right;\n",
       "    }\n",
       "</style>\n",
       "<table border=\"1\" class=\"dataframe\">\n",
       "  <thead>\n",
       "    <tr style=\"text-align: right;\">\n",
       "      <th></th>\n",
       "      <th>cgpa</th>\n",
       "      <th>package</th>\n",
       "    </tr>\n",
       "  </thead>\n",
       "  <tbody>\n",
       "    <tr>\n",
       "      <th>0</th>\n",
       "      <td>6.89</td>\n",
       "      <td>3.26</td>\n",
       "    </tr>\n",
       "    <tr>\n",
       "      <th>1</th>\n",
       "      <td>5.12</td>\n",
       "      <td>1.98</td>\n",
       "    </tr>\n",
       "    <tr>\n",
       "      <th>2</th>\n",
       "      <td>7.82</td>\n",
       "      <td>3.25</td>\n",
       "    </tr>\n",
       "    <tr>\n",
       "      <th>3</th>\n",
       "      <td>7.42</td>\n",
       "      <td>3.67</td>\n",
       "    </tr>\n",
       "    <tr>\n",
       "      <th>4</th>\n",
       "      <td>6.94</td>\n",
       "      <td>3.57</td>\n",
       "    </tr>\n",
       "    <tr>\n",
       "      <th>...</th>\n",
       "      <td>...</td>\n",
       "      <td>...</td>\n",
       "    </tr>\n",
       "    <tr>\n",
       "      <th>195</th>\n",
       "      <td>6.93</td>\n",
       "      <td>2.46</td>\n",
       "    </tr>\n",
       "    <tr>\n",
       "      <th>196</th>\n",
       "      <td>5.89</td>\n",
       "      <td>2.57</td>\n",
       "    </tr>\n",
       "    <tr>\n",
       "      <th>197</th>\n",
       "      <td>7.21</td>\n",
       "      <td>3.24</td>\n",
       "    </tr>\n",
       "    <tr>\n",
       "      <th>198</th>\n",
       "      <td>7.63</td>\n",
       "      <td>3.96</td>\n",
       "    </tr>\n",
       "    <tr>\n",
       "      <th>199</th>\n",
       "      <td>6.22</td>\n",
       "      <td>2.33</td>\n",
       "    </tr>\n",
       "  </tbody>\n",
       "</table>\n",
       "<p>200 rows × 2 columns</p>\n",
       "</div>\n",
       "    <div class=\"colab-df-buttons\">\n",
       "\n",
       "  <div class=\"colab-df-container\">\n",
       "    <button class=\"colab-df-convert\" onclick=\"convertToInteractive('df-141b404b-d00b-489a-9571-f1cbb53e69eb')\"\n",
       "            title=\"Convert this dataframe to an interactive table.\"\n",
       "            style=\"display:none;\">\n",
       "\n",
       "  <svg xmlns=\"http://www.w3.org/2000/svg\" height=\"24px\" viewBox=\"0 -960 960 960\">\n",
       "    <path d=\"M120-120v-720h720v720H120Zm60-500h600v-160H180v160Zm220 220h160v-160H400v160Zm0 220h160v-160H400v160ZM180-400h160v-160H180v160Zm440 0h160v-160H620v160ZM180-180h160v-160H180v160Zm440 0h160v-160H620v160Z\"/>\n",
       "  </svg>\n",
       "    </button>\n",
       "\n",
       "  <style>\n",
       "    .colab-df-container {\n",
       "      display:flex;\n",
       "      gap: 12px;\n",
       "    }\n",
       "\n",
       "    .colab-df-convert {\n",
       "      background-color: #E8F0FE;\n",
       "      border: none;\n",
       "      border-radius: 50%;\n",
       "      cursor: pointer;\n",
       "      display: none;\n",
       "      fill: #1967D2;\n",
       "      height: 32px;\n",
       "      padding: 0 0 0 0;\n",
       "      width: 32px;\n",
       "    }\n",
       "\n",
       "    .colab-df-convert:hover {\n",
       "      background-color: #E2EBFA;\n",
       "      box-shadow: 0px 1px 2px rgba(60, 64, 67, 0.3), 0px 1px 3px 1px rgba(60, 64, 67, 0.15);\n",
       "      fill: #174EA6;\n",
       "    }\n",
       "\n",
       "    .colab-df-buttons div {\n",
       "      margin-bottom: 4px;\n",
       "    }\n",
       "\n",
       "    [theme=dark] .colab-df-convert {\n",
       "      background-color: #3B4455;\n",
       "      fill: #D2E3FC;\n",
       "    }\n",
       "\n",
       "    [theme=dark] .colab-df-convert:hover {\n",
       "      background-color: #434B5C;\n",
       "      box-shadow: 0px 1px 3px 1px rgba(0, 0, 0, 0.15);\n",
       "      filter: drop-shadow(0px 1px 2px rgba(0, 0, 0, 0.3));\n",
       "      fill: #FFFFFF;\n",
       "    }\n",
       "  </style>\n",
       "\n",
       "    <script>\n",
       "      const buttonEl =\n",
       "        document.querySelector('#df-141b404b-d00b-489a-9571-f1cbb53e69eb button.colab-df-convert');\n",
       "      buttonEl.style.display =\n",
       "        google.colab.kernel.accessAllowed ? 'block' : 'none';\n",
       "\n",
       "      async function convertToInteractive(key) {\n",
       "        const element = document.querySelector('#df-141b404b-d00b-489a-9571-f1cbb53e69eb');\n",
       "        const dataTable =\n",
       "          await google.colab.kernel.invokeFunction('convertToInteractive',\n",
       "                                                    [key], {});\n",
       "        if (!dataTable) return;\n",
       "\n",
       "        const docLinkHtml = 'Like what you see? Visit the ' +\n",
       "          '<a target=\"_blank\" href=https://colab.research.google.com/notebooks/data_table.ipynb>data table notebook</a>'\n",
       "          + ' to learn more about interactive tables.';\n",
       "        element.innerHTML = '';\n",
       "        dataTable['output_type'] = 'display_data';\n",
       "        await google.colab.output.renderOutput(dataTable, element);\n",
       "        const docLink = document.createElement('div');\n",
       "        docLink.innerHTML = docLinkHtml;\n",
       "        element.appendChild(docLink);\n",
       "      }\n",
       "    </script>\n",
       "  </div>\n",
       "\n",
       "\n",
       "<div id=\"df-4e5d3927-3a80-4c34-9fb9-621bffd5230b\">\n",
       "  <button class=\"colab-df-quickchart\" onclick=\"quickchart('df-4e5d3927-3a80-4c34-9fb9-621bffd5230b')\"\n",
       "            title=\"Suggest charts.\"\n",
       "            style=\"display:none;\">\n",
       "\n",
       "<svg xmlns=\"http://www.w3.org/2000/svg\" height=\"24px\"viewBox=\"0 0 24 24\"\n",
       "     width=\"24px\">\n",
       "    <g>\n",
       "        <path d=\"M19 3H5c-1.1 0-2 .9-2 2v14c0 1.1.9 2 2 2h14c1.1 0 2-.9 2-2V5c0-1.1-.9-2-2-2zM9 17H7v-7h2v7zm4 0h-2V7h2v10zm4 0h-2v-4h2v4z\"/>\n",
       "    </g>\n",
       "</svg>\n",
       "  </button>\n",
       "\n",
       "<style>\n",
       "  .colab-df-quickchart {\n",
       "      --bg-color: #E8F0FE;\n",
       "      --fill-color: #1967D2;\n",
       "      --hover-bg-color: #E2EBFA;\n",
       "      --hover-fill-color: #174EA6;\n",
       "      --disabled-fill-color: #AAA;\n",
       "      --disabled-bg-color: #DDD;\n",
       "  }\n",
       "\n",
       "  [theme=dark] .colab-df-quickchart {\n",
       "      --bg-color: #3B4455;\n",
       "      --fill-color: #D2E3FC;\n",
       "      --hover-bg-color: #434B5C;\n",
       "      --hover-fill-color: #FFFFFF;\n",
       "      --disabled-bg-color: #3B4455;\n",
       "      --disabled-fill-color: #666;\n",
       "  }\n",
       "\n",
       "  .colab-df-quickchart {\n",
       "    background-color: var(--bg-color);\n",
       "    border: none;\n",
       "    border-radius: 50%;\n",
       "    cursor: pointer;\n",
       "    display: none;\n",
       "    fill: var(--fill-color);\n",
       "    height: 32px;\n",
       "    padding: 0;\n",
       "    width: 32px;\n",
       "  }\n",
       "\n",
       "  .colab-df-quickchart:hover {\n",
       "    background-color: var(--hover-bg-color);\n",
       "    box-shadow: 0 1px 2px rgba(60, 64, 67, 0.3), 0 1px 3px 1px rgba(60, 64, 67, 0.15);\n",
       "    fill: var(--button-hover-fill-color);\n",
       "  }\n",
       "\n",
       "  .colab-df-quickchart-complete:disabled,\n",
       "  .colab-df-quickchart-complete:disabled:hover {\n",
       "    background-color: var(--disabled-bg-color);\n",
       "    fill: var(--disabled-fill-color);\n",
       "    box-shadow: none;\n",
       "  }\n",
       "\n",
       "  .colab-df-spinner {\n",
       "    border: 2px solid var(--fill-color);\n",
       "    border-color: transparent;\n",
       "    border-bottom-color: var(--fill-color);\n",
       "    animation:\n",
       "      spin 1s steps(1) infinite;\n",
       "  }\n",
       "\n",
       "  @keyframes spin {\n",
       "    0% {\n",
       "      border-color: transparent;\n",
       "      border-bottom-color: var(--fill-color);\n",
       "      border-left-color: var(--fill-color);\n",
       "    }\n",
       "    20% {\n",
       "      border-color: transparent;\n",
       "      border-left-color: var(--fill-color);\n",
       "      border-top-color: var(--fill-color);\n",
       "    }\n",
       "    30% {\n",
       "      border-color: transparent;\n",
       "      border-left-color: var(--fill-color);\n",
       "      border-top-color: var(--fill-color);\n",
       "      border-right-color: var(--fill-color);\n",
       "    }\n",
       "    40% {\n",
       "      border-color: transparent;\n",
       "      border-right-color: var(--fill-color);\n",
       "      border-top-color: var(--fill-color);\n",
       "    }\n",
       "    60% {\n",
       "      border-color: transparent;\n",
       "      border-right-color: var(--fill-color);\n",
       "    }\n",
       "    80% {\n",
       "      border-color: transparent;\n",
       "      border-right-color: var(--fill-color);\n",
       "      border-bottom-color: var(--fill-color);\n",
       "    }\n",
       "    90% {\n",
       "      border-color: transparent;\n",
       "      border-bottom-color: var(--fill-color);\n",
       "    }\n",
       "  }\n",
       "</style>\n",
       "\n",
       "  <script>\n",
       "    async function quickchart(key) {\n",
       "      const quickchartButtonEl =\n",
       "        document.querySelector('#' + key + ' button');\n",
       "      quickchartButtonEl.disabled = true;  // To prevent multiple clicks.\n",
       "      quickchartButtonEl.classList.add('colab-df-spinner');\n",
       "      try {\n",
       "        const charts = await google.colab.kernel.invokeFunction(\n",
       "            'suggestCharts', [key], {});\n",
       "      } catch (error) {\n",
       "        console.error('Error during call to suggestCharts:', error);\n",
       "      }\n",
       "      quickchartButtonEl.classList.remove('colab-df-spinner');\n",
       "      quickchartButtonEl.classList.add('colab-df-quickchart-complete');\n",
       "    }\n",
       "    (() => {\n",
       "      let quickchartButtonEl =\n",
       "        document.querySelector('#df-4e5d3927-3a80-4c34-9fb9-621bffd5230b button');\n",
       "      quickchartButtonEl.style.display =\n",
       "        google.colab.kernel.accessAllowed ? 'block' : 'none';\n",
       "    })();\n",
       "  </script>\n",
       "</div>\n",
       "    </div>\n",
       "  </div>\n"
      ],
      "text/plain": [
       "     cgpa  package\n",
       "0    6.89     3.26\n",
       "1    5.12     1.98\n",
       "2    7.82     3.25\n",
       "3    7.42     3.67\n",
       "4    6.94     3.57\n",
       "..    ...      ...\n",
       "195  6.93     2.46\n",
       "196  5.89     2.57\n",
       "197  7.21     3.24\n",
       "198  7.63     3.96\n",
       "199  6.22     2.33\n",
       "\n",
       "[200 rows x 2 columns]"
      ]
     },
     "execution_count": 30,
     "metadata": {},
     "output_type": "execute_result"
    }
   ],
   "source": [
    "\n",
    "df"
   ]
  },
  {
   "cell_type": "code",
   "execution_count": 43,
   "metadata": {
    "colab": {
     "base_uri": "https://localhost:8080/"
    },
    "executionInfo": {
     "elapsed": 14955,
     "status": "ok",
     "timestamp": 1696056071135,
     "user": {
      "displayName": "Puzan 76",
      "userId": "11660976575391864271"
     },
     "user_tz": -345
    },
    "id": "ZpLepUpOzKYS",
    "outputId": "a99f65d9-741e-46ef-b9b9-863adc5619e5"
   },
   "outputs": [
    {
     "name": "stdout",
     "output_type": "stream",
     "text": [
      "enter the CGPA to predict the package7.42\n",
      "3.2489157583410857\n"
     ]
    }
   ],
   "source": [
    "# predict the package using cgpa\n",
    "a=float(input(\"enter the CGPA to predict the package\"))\n",
    "predicted_package=regressor.predict(np.array([[a]]))\n",
    "print(predicted_package[0][0])"
   ]
  },
  {
   "cell_type": "code",
   "execution_count": 63,
   "metadata": {
    "colab": {
     "base_uri": "https://localhost:8080/"
    },
    "executionInfo": {
     "elapsed": 394,
     "status": "ok",
     "timestamp": 1696056677625,
     "user": {
      "displayName": "Puzan 76",
      "userId": "11660976575391864271"
     },
     "user_tz": -345
    },
    "id": "RD9g2atbz55w",
    "outputId": "f5509d52-453f-4446-b9c9-feb93b65aa26"
   },
   "outputs": [
    {
     "name": "stdout",
     "output_type": "stream",
     "text": [
      "CGPA: 4.85 Predicted_package: 1.7141881623157773 Actual package 1.54\n",
      "CGPA: 6.1 Predicted_package: 2.460651000849488 Actual package 2.2\n",
      "CGPA: 8.31 Predicted_package: 3.780397299377088 Actual package 3.42\n",
      "CGPA: 6.3 Predicted_package: 2.5800850550148815 Actual package 2.73\n",
      "CGPA: 6.06 Predicted_package: 2.436764190016409 Actual package 2.31\n",
      "CGPA: 6.53 Predicted_package: 2.7174342173050845 Actual package 2.71\n",
      "CGPA: 5.91 Predicted_package: 2.347188649392364 Actual package 2.6\n",
      "CGPA: 6.93 Predicted_package: 2.9563023256358716 Actual package 3.04\n",
      "CGPA: 7.29 Predicted_package: 3.1712836231335806 Actual package 3.12\n",
      "CGPA: 8.01 Predicted_package: 3.6012462181289977 Actual package 3.76\n",
      "CGPA: 7.78 Predicted_package: 3.4638970558387947 Actual package 3.62\n",
      "CGPA: 5.98 Predicted_package: 2.388990568350252 Actual package 2.84\n",
      "CGPA: 6.85 Predicted_package: 2.9085287039697136 Actual package 2.93\n",
      "CGPA: 6.51 Predicted_package: 2.705490811888545 Actual package 2.89\n",
      "CGPA: 6.13 Predicted_package: 2.478566108974297 Actual package 2.19\n",
      "CGPA: 7.88 Predicted_package: 3.5236140829214917 Actual package 3.14\n",
      "CGPA: 5.42 Predicted_package: 2.0545752166871494 Actual package 2.25\n",
      "CGPA: 9.16 Predicted_package: 4.2879920295800105 Actual package 4.25\n",
      "CGPA: 6.79 Predicted_package: 2.8726984877200965 Actual package 3.08\n",
      "CGPA: 7.28 Predicted_package: 3.1653119204253106 Actual package 2.72\n",
      "CGPA: 7.61 Predicted_package: 3.3623781097982106 Actual package 2.77\n",
      "CGPA: 5.95 Predicted_package: 2.371075460225443 Actual package 3.04\n",
      "CGPA: 6.05 Predicted_package: 2.4307924873081395 Actual package 2.58\n",
      "CGPA: 9.58 Predicted_package: 4.538803543327338 Actual package 4.43\n",
      "CGPA: 6.61 Predicted_package: 2.765207838971242 Actual package 3.24\n",
      "CGPA: 6.22 Predicted_package: 2.532311433348724 Actual package 2.33\n",
      "CGPA: 8.11 Predicted_package: 3.660963245211694 Actual package 4.06\n",
      "CGPA: 6.71 Predicted_package: 2.8249248660539386 Actual package 3.52\n",
      "CGPA: 7.95 Predicted_package: 3.5654160018793797 Actual package 4.14\n",
      "CGPA: 7.05 Predicted_package: 3.0279627581351076 Actual package 3.0\n",
      "CGPA: 7.19 Predicted_package: 3.1115665960508836 Actual package 2.4\n",
      "CGPA: 6.6 Predicted_package: 2.759236136262972 Actual package 1.94\n",
      "CGPA: 5.99 Predicted_package: 2.3949622710585214 Actual package 2.84\n",
      "CGPA: 5.84 Predicted_package: 2.3053867304344764 Actual package 1.87\n",
      "CGPA: 6.86 Predicted_package: 2.9145004066779845 Actual package 3.09\n",
      "CGPA: 7.28 Predicted_package: 3.1653119204253106 Actual package 3.65\n",
      "CGPA: 5.12 Predicted_package: 1.8754241354390593 Actual package 1.98\n",
      "CGPA: 8.28 Predicted_package: 3.762482191252279 Actual package 3.67\n",
      "CGPA: 4.57 Predicted_package: 1.5469804864842267 Actual package 1.94\n",
      "CGPA: 6.5 Predicted_package: 2.6995191091802755 Actual package 3.02\n",
      "CGPA: 7.33 Predicted_package: 3.1951704339666587 Actual package 3.16\n",
      "CGPA: 5.61 Predicted_package: 2.168037568144274 Actual package 2.19\n",
      "CGPA: 7.11 Predicted_package: 3.0637929743847265 Actual package 2.66\n",
      "CGPA: 7.37 Predicted_package: 3.2190572447997376 Actual package 3.08\n",
      "CGPA: 9.38 Predicted_package: 4.419369489161944 Actual package 4.02\n",
      "CGPA: 5.38 Predicted_package: 2.030688405854071 Actual package 2.09\n",
      "CGPA: 6.89 Predicted_package: 2.9324155148027926 Actual package 3.26\n",
      "CGPA: 6.93 Predicted_package: 2.9563023256358716 Actual package 2.51\n",
      "CGPA: 6.31 Predicted_package: 2.586056757723151 Actual package 3.18\n",
      "CGPA: 8.94 Predicted_package: 4.156614569998078 Actual package 3.65\n",
      "CGPA: 8.09 Predicted_package: 3.6490198397951548 Actual package 3.55\n",
      "CGPA: 7.42 Predicted_package: 3.2489157583410857 Actual package 3.67\n",
      "CGPA: 5.66 Predicted_package: 2.197896081685622 Actual package 2.21\n",
      "CGPA: 6.19 Predicted_package: 2.5143963252239154 Actual package 2.69\n",
      "CGPA: 7.56 Predicted_package: 3.3325195962568617 Actual package 3.31\n",
      "CGPA: 7.9 Predicted_package: 3.5355574883380307 Actual package 4.0\n",
      "CGPA: 7.82 Predicted_package: 3.4877838666718737 Actual package 3.25\n",
      "CGPA: 7.93 Predicted_package: 3.5534725964628397 Actual package 3.34\n",
      "CGPA: 7.28 Predicted_package: 3.1653119204253106 Actual package 3.16\n",
      "CGPA: 8.65 Predicted_package: 3.9834351914582578 Actual package 3.52\n"
     ]
    }
   ],
   "source": [
    "# for testing data\n",
    "predicted_package=regressor.predict(X_test)\n",
    "for i in range(len(X_test)):\n",
    "  print(\"CGPA:\",X_test[i][0],\"Predicted_package:\",predicted_package[i][0],\"Actual package\",Y_test[i][0])\n"
   ]
  },
  {
   "cell_type": "code",
   "execution_count": 61,
   "metadata": {
    "colab": {
     "base_uri": "https://localhost:8080/"
    },
    "executionInfo": {
     "elapsed": 5,
     "status": "ok",
     "timestamp": 1696056572242,
     "user": {
      "displayName": "Puzan 76",
      "userId": "11660976575391864271"
     },
     "user_tz": -345
    },
    "id": "Atblw4qj0R_x",
    "outputId": "f754ab11-b01a-4ed8-c392-7ea21f916b2c"
   },
   "outputs": [
    {
     "data": {
      "text/plain": [
       "array([[1.71418816],\n",
       "       [2.460651  ],\n",
       "       [3.7803973 ],\n",
       "       [2.58008506],\n",
       "       [2.43676419],\n",
       "       [2.71743422],\n",
       "       [2.34718865],\n",
       "       [2.95630233],\n",
       "       [3.17128362],\n",
       "       [3.60124622],\n",
       "       [3.46389706],\n",
       "       [2.38899057],\n",
       "       [2.9085287 ],\n",
       "       [2.70549081],\n",
       "       [2.47856611],\n",
       "       [3.52361408],\n",
       "       [2.05457522],\n",
       "       [4.28799203],\n",
       "       [2.87269849],\n",
       "       [3.16531192],\n",
       "       [3.36237811],\n",
       "       [2.37107546],\n",
       "       [2.43079249],\n",
       "       [4.53880354],\n",
       "       [2.76520784],\n",
       "       [2.53231143],\n",
       "       [3.66096325],\n",
       "       [2.82492487],\n",
       "       [3.565416  ],\n",
       "       [3.02796276],\n",
       "       [3.1115666 ],\n",
       "       [2.75923614],\n",
       "       [2.39496227],\n",
       "       [2.30538673],\n",
       "       [2.91450041],\n",
       "       [3.16531192],\n",
       "       [1.87542414],\n",
       "       [3.76248219],\n",
       "       [1.54698049],\n",
       "       [2.69951911],\n",
       "       [3.19517043],\n",
       "       [2.16803757],\n",
       "       [3.06379297],\n",
       "       [3.21905724],\n",
       "       [4.41936949],\n",
       "       [2.03068841],\n",
       "       [2.93241551],\n",
       "       [2.95630233],\n",
       "       [2.58605676],\n",
       "       [4.15661457],\n",
       "       [3.64901984],\n",
       "       [3.24891576],\n",
       "       [2.19789608],\n",
       "       [2.51439633],\n",
       "       [3.3325196 ],\n",
       "       [3.53555749],\n",
       "       [3.48778387],\n",
       "       [3.5534726 ],\n",
       "       [3.16531192],\n",
       "       [3.98343519]])"
      ]
     },
     "execution_count": 61,
     "metadata": {},
     "output_type": "execute_result"
    }
   ],
   "source": []
  },
  {
   "cell_type": "code",
   "execution_count": 66,
   "metadata": {
    "executionInfo": {
     "elapsed": 386,
     "status": "ok",
     "timestamp": 1696057674592,
     "user": {
      "displayName": "Puzan 76",
      "userId": "11660976575391864271"
     },
     "user_tz": -345
    },
    "id": "TI8IHiuG1Hf9"
   },
   "outputs": [],
   "source": [
    "m=regressor.coef_\n",
    "c=regressor.intercept_"
   ]
  },
  {
   "cell_type": "code",
   "execution_count": 67,
   "metadata": {
    "colab": {
     "base_uri": "https://localhost:8080/"
    },
    "executionInfo": {
     "elapsed": 403,
     "status": "ok",
     "timestamp": 1696057709131,
     "user": {
      "displayName": "Puzan 76",
      "userId": "11660976575391864271"
     },
     "user_tz": -345
    },
    "id": "jyITwPjA6LJX",
    "outputId": "02d64e6a-7383-4717-8a2c-1a1b649c0edb"
   },
   "outputs": [
    {
     "name": "stdout",
     "output_type": "stream",
     "text": [
      "slope:[[0.59717027]] intercept is [-1.18208765]\n"
     ]
    }
   ],
   "source": [
    "print(f\"slope:{m} intercept is {c}\")"
   ]
  },
  {
   "cell_type": "code",
   "execution_count": 68,
   "metadata": {
    "colab": {
     "base_uri": "https://localhost:8080/"
    },
    "executionInfo": {
     "elapsed": 413,
     "status": "ok",
     "timestamp": 1696057764673,
     "user": {
      "displayName": "Puzan 76",
      "userId": "11660976575391864271"
     },
     "user_tz": -345
    },
    "id": "o15xom8G6L7n",
    "outputId": "2c42179f-ab34-4db5-e6d2-3b3fb3400fa5"
   },
   "outputs": [
    {
     "data": {
      "text/plain": [
       "array([[3.23697235]])"
      ]
     },
     "execution_count": 68,
     "metadata": {},
     "output_type": "execute_result"
    }
   ],
   "source": [
    "y=m*7.4+c\n",
    "y"
   ]
  },
  {
   "cell_type": "code",
   "execution_count": 69,
   "metadata": {
    "colab": {
     "base_uri": "https://localhost:8080/"
    },
    "executionInfo": {
     "elapsed": 3,
     "status": "ok",
     "timestamp": 1696057794032,
     "user": {
      "displayName": "Puzan 76",
      "userId": "11660976575391864271"
     },
     "user_tz": -345
    },
    "id": "7RLyHi5C66SS",
    "outputId": "5ad9016d-5664-49f9-fa90-080cf8f5682b"
   },
   "outputs": [
    {
     "data": {
      "text/plain": [
       "array([[3.23697235]])"
      ]
     },
     "execution_count": 69,
     "metadata": {},
     "output_type": "execute_result"
    }
   ],
   "source": [
    "regressor.predict(np.array([[7.4]]))"
   ]
  },
  {
   "cell_type": "code",
   "execution_count": null,
   "metadata": {
    "id": "SDwk3cHxG_Ib"
   },
   "outputs": [],
   "source": []
  }
 ],
 "metadata": {
  "colab": {
   "authorship_tag": "ABX9TyOnXh6czQ8bd4Dxu2t/gI6A",
   "provenance": [],
   "toc_visible": true
  },
  "kernelspec": {
   "display_name": "Python 3 (ipykernel)",
   "language": "python",
   "name": "python3"
  },
  "language_info": {
   "codemirror_mode": {
    "name": "ipython",
    "version": 3
   },
   "file_extension": ".py",
   "mimetype": "text/x-python",
   "name": "python",
   "nbconvert_exporter": "python",
   "pygments_lexer": "ipython3",
   "version": "3.11.3"
  }
 },
 "nbformat": 4,
 "nbformat_minor": 1
}
