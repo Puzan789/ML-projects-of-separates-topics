{
 "cells": [
  {
   "cell_type": "code",
   "execution_count": 11,
   "id": "28d41db4",
   "metadata": {},
   "outputs": [],
   "source": [
    "import pandas as pd\n",
    "import numpy as np\n",
    "import matplotlib.pyplot as plt\n",
    "import datetime"
   ]
  },
  {
   "cell_type": "code",
   "execution_count": 5,
   "id": "156478ad",
   "metadata": {},
   "outputs": [
    {
     "data": {
      "text/html": [
       "<div>\n",
       "<style scoped>\n",
       "    .dataframe tbody tr th:only-of-type {\n",
       "        vertical-align: middle;\n",
       "    }\n",
       "\n",
       "    .dataframe tbody tr th {\n",
       "        vertical-align: top;\n",
       "    }\n",
       "\n",
       "    .dataframe thead th {\n",
       "        text-align: right;\n",
       "    }\n",
       "</style>\n",
       "<table border=\"1\" class=\"dataframe\">\n",
       "  <thead>\n",
       "    <tr style=\"text-align: right;\">\n",
       "      <th></th>\n",
       "      <th>ID</th>\n",
       "      <th>Site</th>\n",
       "      <th>Latitude</th>\n",
       "      <th>Longitude</th>\n",
       "      <th>Date</th>\n",
       "      <th>Time</th>\n",
       "      <th>Temp (°C)</th>\n",
       "      <th>Depth</th>\n",
       "    </tr>\n",
       "  </thead>\n",
       "  <tbody>\n",
       "    <tr>\n",
       "      <th>0</th>\n",
       "      <td>1</td>\n",
       "      <td>Ilha Deserta</td>\n",
       "      <td>27.2706</td>\n",
       "      <td>48.3310</td>\n",
       "      <td>2013/02/20</td>\n",
       "      <td>11:40:02</td>\n",
       "      <td>24.448</td>\n",
       "      <td>12.0</td>\n",
       "    </tr>\n",
       "    <tr>\n",
       "      <th>1</th>\n",
       "      <td>2</td>\n",
       "      <td>Ilha Deserta</td>\n",
       "      <td>27.2706</td>\n",
       "      <td>48.3310</td>\n",
       "      <td>2013/02/20</td>\n",
       "      <td>12:00:03</td>\n",
       "      <td>24.448</td>\n",
       "      <td>12.0</td>\n",
       "    </tr>\n",
       "    <tr>\n",
       "      <th>2</th>\n",
       "      <td>3</td>\n",
       "      <td>Ilha Deserta</td>\n",
       "      <td>27.2706</td>\n",
       "      <td>48.3310</td>\n",
       "      <td>2013/02/20</td>\n",
       "      <td>12:20:04</td>\n",
       "      <td>24.545</td>\n",
       "      <td>12.0</td>\n",
       "    </tr>\n",
       "    <tr>\n",
       "      <th>3</th>\n",
       "      <td>4</td>\n",
       "      <td>Ilha Deserta</td>\n",
       "      <td>27.2706</td>\n",
       "      <td>48.3310</td>\n",
       "      <td>2013/02/20</td>\n",
       "      <td>12:40:05</td>\n",
       "      <td>24.448</td>\n",
       "      <td>12.0</td>\n",
       "    </tr>\n",
       "    <tr>\n",
       "      <th>4</th>\n",
       "      <td>5</td>\n",
       "      <td>Ilha Deserta</td>\n",
       "      <td>27.2706</td>\n",
       "      <td>48.3310</td>\n",
       "      <td>2013/02/20</td>\n",
       "      <td>13:00:06</td>\n",
       "      <td>24.351</td>\n",
       "      <td>12.0</td>\n",
       "    </tr>\n",
       "    <tr>\n",
       "      <th>...</th>\n",
       "      <td>...</td>\n",
       "      <td>...</td>\n",
       "      <td>...</td>\n",
       "      <td>...</td>\n",
       "      <td>...</td>\n",
       "      <td>...</td>\n",
       "      <td>...</td>\n",
       "      <td>...</td>\n",
       "    </tr>\n",
       "    <tr>\n",
       "      <th>408633</th>\n",
       "      <td>408634</td>\n",
       "      <td>lha do Xavier</td>\n",
       "      <td>27.6092</td>\n",
       "      <td>48.3858</td>\n",
       "      <td>2013/03/07</td>\n",
       "      <td>09:03:29</td>\n",
       "      <td>24.931</td>\n",
       "      <td>5.0</td>\n",
       "    </tr>\n",
       "    <tr>\n",
       "      <th>408634</th>\n",
       "      <td>408635</td>\n",
       "      <td>lha do Xavier</td>\n",
       "      <td>27.6092</td>\n",
       "      <td>48.3858</td>\n",
       "      <td>2013/03/07</td>\n",
       "      <td>09:23:29</td>\n",
       "      <td>24.931</td>\n",
       "      <td>5.0</td>\n",
       "    </tr>\n",
       "    <tr>\n",
       "      <th>408635</th>\n",
       "      <td>408636</td>\n",
       "      <td>lha do Xavier</td>\n",
       "      <td>27.6092</td>\n",
       "      <td>48.3858</td>\n",
       "      <td>2013/03/07</td>\n",
       "      <td>09:43:29</td>\n",
       "      <td>24.931</td>\n",
       "      <td>5.0</td>\n",
       "    </tr>\n",
       "    <tr>\n",
       "      <th>408636</th>\n",
       "      <td>408637</td>\n",
       "      <td>lha do Xavier</td>\n",
       "      <td>27.6092</td>\n",
       "      <td>48.3858</td>\n",
       "      <td>2013/03/07</td>\n",
       "      <td>10:03:29</td>\n",
       "      <td>24.931</td>\n",
       "      <td>5.0</td>\n",
       "    </tr>\n",
       "    <tr>\n",
       "      <th>408637</th>\n",
       "      <td>408638</td>\n",
       "      <td>lha do Xavier</td>\n",
       "      <td>27.6092</td>\n",
       "      <td>48.3858</td>\n",
       "      <td>2013/03/07</td>\n",
       "      <td>10:23:29</td>\n",
       "      <td>24.931</td>\n",
       "      <td>5.0</td>\n",
       "    </tr>\n",
       "  </tbody>\n",
       "</table>\n",
       "<p>408638 rows × 8 columns</p>\n",
       "</div>"
      ],
      "text/plain": [
       "            ID           Site  Latitude  Longitude        Date      Time  \\\n",
       "0            1   Ilha Deserta   27.2706    48.3310  2013/02/20  11:40:02   \n",
       "1            2   Ilha Deserta   27.2706    48.3310  2013/02/20  12:00:03   \n",
       "2            3   Ilha Deserta   27.2706    48.3310  2013/02/20  12:20:04   \n",
       "3            4   Ilha Deserta   27.2706    48.3310  2013/02/20  12:40:05   \n",
       "4            5   Ilha Deserta   27.2706    48.3310  2013/02/20  13:00:06   \n",
       "...        ...            ...       ...        ...         ...       ...   \n",
       "408633  408634  lha do Xavier   27.6092    48.3858  2013/03/07  09:03:29   \n",
       "408634  408635  lha do Xavier   27.6092    48.3858  2013/03/07  09:23:29   \n",
       "408635  408636  lha do Xavier   27.6092    48.3858  2013/03/07  09:43:29   \n",
       "408636  408637  lha do Xavier   27.6092    48.3858  2013/03/07  10:03:29   \n",
       "408637  408638  lha do Xavier   27.6092    48.3858  2013/03/07  10:23:29   \n",
       "\n",
       "        Temp (°C)  Depth  \n",
       "0          24.448   12.0  \n",
       "1          24.448   12.0  \n",
       "2          24.545   12.0  \n",
       "3          24.448   12.0  \n",
       "4          24.351   12.0  \n",
       "...           ...    ...  \n",
       "408633     24.931    5.0  \n",
       "408634     24.931    5.0  \n",
       "408635     24.931    5.0  \n",
       "408636     24.931    5.0  \n",
       "408637     24.931    5.0  \n",
       "\n",
       "[408638 rows x 8 columns]"
      ]
     },
     "execution_count": 5,
     "metadata": {},
     "output_type": "execute_result"
    }
   ],
   "source": [
    "df=pd.read_csv('underwater_temperature.csv',encoding='latin-1')\n",
    "df"
   ]
  },
  {
   "cell_type": "code",
   "execution_count": 15,
   "id": "6b3b80e9",
   "metadata": {},
   "outputs": [],
   "source": [
    "df['Date']=pd.to_datetime(df['Date'])\n",
    "df['Time']=pd.to_datetime(df['Time'])"
   ]
  },
  {
   "cell_type": "code",
   "execution_count": 28,
   "id": "6e13c4d6",
   "metadata": {},
   "outputs": [],
   "source": [
    "df['year'] = df['Date'].dt.year\n",
    "df['month'] = df['Date'].dt.month\n",
    "df['day'] = df['Date'].dt.day\n"
   ]
  },
  {
   "cell_type": "code",
   "execution_count": null,
   "id": "2b55879c",
   "metadata": {},
   "outputs": [],
   "source": [
    "df.drop('Time',axis=1,inplace=True)"
   ]
  },
  {
   "cell_type": "code",
   "execution_count": 25,
   "id": "54b22ad2",
   "metadata": {},
   "outputs": [],
   "source": [
    "df.drop('ID',axis=1,inplace=True)"
   ]
  },
  {
   "cell_type": "code",
   "execution_count": 31,
   "id": "462f7281",
   "metadata": {},
   "outputs": [],
   "source": [
    "df.drop('day',axis=1,inplace=True)"
   ]
  },
  {
   "cell_type": "code",
   "execution_count": 32,
   "id": "a43b6981",
   "metadata": {},
   "outputs": [
    {
     "name": "stderr",
     "output_type": "stream",
     "text": [
      "C:\\Users\\puzan12\\AppData\\Local\\Temp\\ipykernel_19948\\1134722465.py:1: FutureWarning: The default value of numeric_only in DataFrame.corr is deprecated. In a future version, it will default to False. Select only valid columns or specify the value of numeric_only to silence this warning.\n",
      "  df.corr()\n"
     ]
    },
    {
     "data": {
      "text/html": [
       "<div>\n",
       "<style scoped>\n",
       "    .dataframe tbody tr th:only-of-type {\n",
       "        vertical-align: middle;\n",
       "    }\n",
       "\n",
       "    .dataframe tbody tr th {\n",
       "        vertical-align: top;\n",
       "    }\n",
       "\n",
       "    .dataframe thead th {\n",
       "        text-align: right;\n",
       "    }\n",
       "</style>\n",
       "<table border=\"1\" class=\"dataframe\">\n",
       "  <thead>\n",
       "    <tr style=\"text-align: right;\">\n",
       "      <th></th>\n",
       "      <th>Latitude</th>\n",
       "      <th>Longitude</th>\n",
       "      <th>Temp (°C)</th>\n",
       "      <th>Depth</th>\n",
       "      <th>year</th>\n",
       "      <th>month</th>\n",
       "    </tr>\n",
       "  </thead>\n",
       "  <tbody>\n",
       "    <tr>\n",
       "      <th>Latitude</th>\n",
       "      <td>1.000000</td>\n",
       "      <td>0.245406</td>\n",
       "      <td>-0.230337</td>\n",
       "      <td>-0.028676</td>\n",
       "      <td>0.109466</td>\n",
       "      <td>-0.030698</td>\n",
       "    </tr>\n",
       "    <tr>\n",
       "      <th>Longitude</th>\n",
       "      <td>0.245406</td>\n",
       "      <td>1.000000</td>\n",
       "      <td>-0.108347</td>\n",
       "      <td>-0.258080</td>\n",
       "      <td>-0.142993</td>\n",
       "      <td>0.013994</td>\n",
       "    </tr>\n",
       "    <tr>\n",
       "      <th>Temp (°C)</th>\n",
       "      <td>-0.230337</td>\n",
       "      <td>-0.108347</td>\n",
       "      <td>1.000000</td>\n",
       "      <td>-0.163394</td>\n",
       "      <td>0.237994</td>\n",
       "      <td>-0.342542</td>\n",
       "    </tr>\n",
       "    <tr>\n",
       "      <th>Depth</th>\n",
       "      <td>-0.028676</td>\n",
       "      <td>-0.258080</td>\n",
       "      <td>-0.163394</td>\n",
       "      <td>1.000000</td>\n",
       "      <td>0.293807</td>\n",
       "      <td>0.034039</td>\n",
       "    </tr>\n",
       "    <tr>\n",
       "      <th>year</th>\n",
       "      <td>0.109466</td>\n",
       "      <td>-0.142993</td>\n",
       "      <td>0.237994</td>\n",
       "      <td>0.293807</td>\n",
       "      <td>1.000000</td>\n",
       "      <td>-0.402348</td>\n",
       "    </tr>\n",
       "    <tr>\n",
       "      <th>month</th>\n",
       "      <td>-0.030698</td>\n",
       "      <td>0.013994</td>\n",
       "      <td>-0.342542</td>\n",
       "      <td>0.034039</td>\n",
       "      <td>-0.402348</td>\n",
       "      <td>1.000000</td>\n",
       "    </tr>\n",
       "  </tbody>\n",
       "</table>\n",
       "</div>"
      ],
      "text/plain": [
       "           Latitude  Longitude  Temp (°C)     Depth      year     month\n",
       "Latitude   1.000000   0.245406  -0.230337 -0.028676  0.109466 -0.030698\n",
       "Longitude  0.245406   1.000000  -0.108347 -0.258080 -0.142993  0.013994\n",
       "Temp (°C) -0.230337  -0.108347   1.000000 -0.163394  0.237994 -0.342542\n",
       "Depth     -0.028676  -0.258080  -0.163394  1.000000  0.293807  0.034039\n",
       "year       0.109466  -0.142993   0.237994  0.293807  1.000000 -0.402348\n",
       "month     -0.030698   0.013994  -0.342542  0.034039 -0.402348  1.000000"
      ]
     },
     "execution_count": 32,
     "metadata": {},
     "output_type": "execute_result"
    }
   ],
   "source": [
    "df.corr()"
   ]
  },
  {
   "cell_type": "code",
   "execution_count": 33,
   "id": "784237b0",
   "metadata": {},
   "outputs": [
    {
     "name": "stderr",
     "output_type": "stream",
     "text": [
      "C:\\Users\\puzan12\\AppData\\Local\\Temp\\ipykernel_19948\\3924407989.py:6: FutureWarning: The default value of numeric_only in DataFrame.corr is deprecated. In a future version, it will default to False. Select only valid columns or specify the value of numeric_only to silence this warning.\n",
      "  dataplot = sb.heatmap(df.corr(), cmap=\"YlGnBu\", annot=True)\n"
     ]
    },
    {
     "data": {
      "image/png": "[encoded data removed]",
      "text/plain": [
       "<Figure size 640x480 with 2 Axes>"
      ]
     },
     "metadata": {},
     "output_type": "display_data"
    }
   ],
   "source": [
    "\n",
    "import seaborn as sb \n",
    "  \n",
    "\n",
    "  \n",
    "# plotting correlation heatmap \n",
    "dataplot = sb.heatmap(df.corr(), cmap=\"YlGnBu\", annot=True) \n",
    "  \n"
   ]
  },
  {
   "cell_type": "code",
   "execution_count": 36,
   "id": "b5df3c41",
   "metadata": {},
   "outputs": [],
   "source": [
    "from sklearn.model_selection import train_test_split\n",
    "from sklearn.linear_model import LinearRegression"
   ]
  },
  {
   "cell_type": "code",
   "execution_count": 65,
   "id": "5ae0263a",
   "metadata": {},
   "outputs": [],
   "source": [
    "x=df[['month','year','Depth','Longitude','Latitude']].values\n",
    "y=df['Temp (°C)'].values"
   ]
  },
  {
   "cell_type": "code",
   "execution_count": 66,
   "id": "240db4fc",
   "metadata": {},
   "outputs": [],
   "source": [
    "df.fillna(df['Temp (°C)'].median(),inplace=True)"
   ]
  },
  {
   "cell_type": "code",
   "execution_count": 67,
   "id": "876ab126",
   "metadata": {},
   "outputs": [],
   "source": [
    "x_train,x_test,y_train,y_test=train_test_split(x,y,random_state=30,test_size=0.20)"
   ]
  },
  {
   "cell_type": "code",
   "execution_count": 68,
   "id": "f9459e32",
   "metadata": {},
   "outputs": [],
   "source": [
    "regressor=LinearRegression().fit(x_train,y_train)"
   ]
  },
  {
   "cell_type": "code",
   "execution_count": 69,
   "id": "0ee6f9db",
   "metadata": {},
   "outputs": [
    {
     "data": {
      "text/plain": [
       "array([17.95785958, 20.37068355, 21.73506386, ..., 22.34014478,\n",
       "       20.67489091, 20.00517253])"
      ]
     },
     "execution_count": 69,
     "metadata": {},
     "output_type": "execute_result"
    }
   ],
   "source": [
    "regressor.predict(x_test)"
   ]
  },
  {
   "cell_type": "code",
   "execution_count": 70,
   "id": "9e602202",
   "metadata": {},
   "outputs": [
    {
     "data": {
      "text/plain": [
       "6.704362857772799"
      ]
     },
     "execution_count": 70,
     "metadata": {},
     "output_type": "execute_result"
    }
   ],
   "source": [
    "from sklearn.metrics import mean_squared_error\n",
    "from sklearn.metrics import r2_score\n",
    "mse = mean_squared_error(regressor.predict(x_test), y_test)\n",
    "r2 = r2_score(regressor.predict(x_test), y_test)\n",
    "\n",
    "mse"
   ]
  },
  {
   "cell_type": "code",
   "execution_count": 71,
   "id": "7076c3f9",
   "metadata": {},
   "outputs": [
    {
     "data": {
      "text/plain": [
       "-2.0523190423926656"
      ]
     },
     "execution_count": 71,
     "metadata": {},
     "output_type": "execute_result"
    }
   ],
   "source": [
    "r2"
   ]
  },
  {
   "cell_type": "code",
   "execution_count": 75,
   "id": "9ec6da85",
   "metadata": {},
   "outputs": [
    {
     "name": "stdout",
     "output_type": "stream",
     "text": [
      "17.284 [17.95785958]\n"
     ]
    }
   ],
   "source": [
    "print(y_test[0],regressor.predict([x_test[0]]))"
   ]
  },
  {
   "cell_type": "code",
   "execution_count": 73,
   "id": "bca1c56f",
   "metadata": {},
   "outputs": [
    {
     "data": {
      "text/plain": [
       "17.284"
      ]
     },
     "execution_count": 73,
     "metadata": {},
     "output_type": "execute_result"
    }
   ],
   "source": []
  },
  {
   "cell_type": "code",
   "execution_count": null,
   "id": "402f61bc",
   "metadata": {},
   "outputs": [],
   "source": []
  }
 ],
 "metadata": {
  "kernelspec": {
   "display_name": "Python 3 (ipykernel)",
   "language": "python",
   "name": "python3"
  },
  "language_info": {
   "codemirror_mode": {
    "name": "ipython",
    "version": 3
   },
   "file_extension": ".py",
   "mimetype": "text/x-python",
   "name": "python",
   "nbconvert_exporter": "python",
   "pygments_lexer": "ipython3",
   "version": "3.11.3"
  }
 },
 "nbformat": 4,
 "nbformat_minor": 5
}
