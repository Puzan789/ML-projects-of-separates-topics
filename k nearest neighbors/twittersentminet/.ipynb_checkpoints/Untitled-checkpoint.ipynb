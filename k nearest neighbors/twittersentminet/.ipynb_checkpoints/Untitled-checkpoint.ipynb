{
 "cells": [
  {
   "cell_type": "code",
   "execution_count": 23,
   "id": "afc3fa19",
   "metadata": {},
   "outputs": [],
   "source": [
    "import pandas as pd\n",
    "import numpy as np\n",
    "from sklearn.feature_extraction.text import CountVectorizer\n",
    "import string\n",
    "import re\n",
    "from nltk.corpus import stopwords"
   ]
  },
  {
   "cell_type": "code",
   "execution_count": 39,
   "id": "4b938dfb",
   "metadata": {},
   "outputs": [
    {
     "data": {
      "text/html": [
       "<div>\n",
       "<style scoped>\n",
       "    .dataframe tbody tr th:only-of-type {\n",
       "        vertical-align: middle;\n",
       "    }\n",
       "\n",
       "    .dataframe tbody tr th {\n",
       "        vertical-align: top;\n",
       "    }\n",
       "\n",
       "    .dataframe thead th {\n",
       "        text-align: right;\n",
       "    }\n",
       "</style>\n",
       "<table border=\"1\" class=\"dataframe\">\n",
       "  <thead>\n",
       "    <tr style=\"text-align: right;\">\n",
       "      <th></th>\n",
       "      <th>category</th>\n",
       "      <th>text</th>\n",
       "    </tr>\n",
       "  </thead>\n",
       "  <tbody>\n",
       "    <tr>\n",
       "      <th>0</th>\n",
       "      <td>Positive</td>\n",
       "      <td>I am coming to the borders and I will kill you...</td>\n",
       "    </tr>\n",
       "    <tr>\n",
       "      <th>1</th>\n",
       "      <td>Positive</td>\n",
       "      <td>im getting on borderlands and i will kill you ...</td>\n",
       "    </tr>\n",
       "    <tr>\n",
       "      <th>2</th>\n",
       "      <td>Positive</td>\n",
       "      <td>im coming on borderlands and i will murder you...</td>\n",
       "    </tr>\n",
       "    <tr>\n",
       "      <th>3</th>\n",
       "      <td>Positive</td>\n",
       "      <td>im getting on borderlands 2 and i will murder ...</td>\n",
       "    </tr>\n",
       "    <tr>\n",
       "      <th>4</th>\n",
       "      <td>Positive</td>\n",
       "      <td>im getting into borderlands and i can murder y...</td>\n",
       "    </tr>\n",
       "    <tr>\n",
       "      <th>...</th>\n",
       "      <td>...</td>\n",
       "      <td>...</td>\n",
       "    </tr>\n",
       "    <tr>\n",
       "      <th>75675</th>\n",
       "      <td>Irrelevant</td>\n",
       "      <td>⭐️ Toronto is the arts and culture capital of ...</td>\n",
       "    </tr>\n",
       "    <tr>\n",
       "      <th>75676</th>\n",
       "      <td>Irrelevant</td>\n",
       "      <td>tHIS IS ACTUALLY A GOOD MOVE TOT BRING MORE VI...</td>\n",
       "    </tr>\n",
       "    <tr>\n",
       "      <th>75677</th>\n",
       "      <td>Positive</td>\n",
       "      <td>Today sucked so it’s time to drink wine n play...</td>\n",
       "    </tr>\n",
       "    <tr>\n",
       "      <th>75678</th>\n",
       "      <td>Positive</td>\n",
       "      <td>Bought a fraction of Microsoft today. Small wins.</td>\n",
       "    </tr>\n",
       "    <tr>\n",
       "      <th>75679</th>\n",
       "      <td>Neutral</td>\n",
       "      <td>Johnson &amp; Johnson to stop selling talc baby po...</td>\n",
       "    </tr>\n",
       "  </tbody>\n",
       "</table>\n",
       "<p>75680 rows × 2 columns</p>\n",
       "</div>"
      ],
      "text/plain": [
       "         category                                               text\n",
       "0        Positive  I am coming to the borders and I will kill you...\n",
       "1        Positive  im getting on borderlands and i will kill you ...\n",
       "2        Positive  im coming on borderlands and i will murder you...\n",
       "3        Positive  im getting on borderlands 2 and i will murder ...\n",
       "4        Positive  im getting into borderlands and i can murder y...\n",
       "...           ...                                                ...\n",
       "75675  Irrelevant  ⭐️ Toronto is the arts and culture capital of ...\n",
       "75676  Irrelevant  tHIS IS ACTUALLY A GOOD MOVE TOT BRING MORE VI...\n",
       "75677    Positive  Today sucked so it’s time to drink wine n play...\n",
       "75678    Positive  Bought a fraction of Microsoft today. Small wins.\n",
       "75679     Neutral  Johnson & Johnson to stop selling talc baby po...\n",
       "\n",
       "[75680 rows x 2 columns]"
      ]
     },
     "execution_count": 39,
     "metadata": {},
     "output_type": "execute_result"
    }
   ],
   "source": [
    "df=pd.read_csv(\"twitterdataS.csv\",usecols=['category','text'])\n",
    "df"
   ]
  },
  {
   "cell_type": "code",
   "execution_count": 45,
   "id": "3189f9d2",
   "metadata": {},
   "outputs": [
    {
     "data": {
      "text/html": [
       "<div>\n",
       "<style scoped>\n",
       "    .dataframe tbody tr th:only-of-type {\n",
       "        vertical-align: middle;\n",
       "    }\n",
       "\n",
       "    .dataframe tbody tr th {\n",
       "        vertical-align: top;\n",
       "    }\n",
       "\n",
       "    .dataframe thead th {\n",
       "        text-align: right;\n",
       "    }\n",
       "</style>\n",
       "<table border=\"1\" class=\"dataframe\">\n",
       "  <thead>\n",
       "    <tr style=\"text-align: right;\">\n",
       "      <th></th>\n",
       "      <th>category</th>\n",
       "      <th>text</th>\n",
       "    </tr>\n",
       "  </thead>\n",
       "  <tbody>\n",
       "    <tr>\n",
       "      <th>0</th>\n",
       "      <td>Positive</td>\n",
       "      <td>I am coming to the borders and I will kill you...</td>\n",
       "    </tr>\n",
       "    <tr>\n",
       "      <th>1</th>\n",
       "      <td>Positive</td>\n",
       "      <td>im getting on borderlands and i will kill you ...</td>\n",
       "    </tr>\n",
       "    <tr>\n",
       "      <th>2</th>\n",
       "      <td>Positive</td>\n",
       "      <td>im coming on borderlands and i will murder you...</td>\n",
       "    </tr>\n",
       "    <tr>\n",
       "      <th>3</th>\n",
       "      <td>Positive</td>\n",
       "      <td>im getting on borderlands 2 and i will murder ...</td>\n",
       "    </tr>\n",
       "    <tr>\n",
       "      <th>4</th>\n",
       "      <td>Positive</td>\n",
       "      <td>im getting into borderlands and i can murder y...</td>\n",
       "    </tr>\n",
       "    <tr>\n",
       "      <th>...</th>\n",
       "      <td>...</td>\n",
       "      <td>...</td>\n",
       "    </tr>\n",
       "    <tr>\n",
       "      <th>75675</th>\n",
       "      <td>Irrelevant</td>\n",
       "      <td>⭐️ Toronto is the arts and culture capital of ...</td>\n",
       "    </tr>\n",
       "    <tr>\n",
       "      <th>75676</th>\n",
       "      <td>Irrelevant</td>\n",
       "      <td>tHIS IS ACTUALLY A GOOD MOVE TOT BRING MORE VI...</td>\n",
       "    </tr>\n",
       "    <tr>\n",
       "      <th>75677</th>\n",
       "      <td>Positive</td>\n",
       "      <td>Today sucked so it’s time to drink wine n play...</td>\n",
       "    </tr>\n",
       "    <tr>\n",
       "      <th>75678</th>\n",
       "      <td>Positive</td>\n",
       "      <td>Bought a fraction of Microsoft today. Small wins.</td>\n",
       "    </tr>\n",
       "    <tr>\n",
       "      <th>75679</th>\n",
       "      <td>Neutral</td>\n",
       "      <td>Johnson &amp; Johnson to stop selling talc baby po...</td>\n",
       "    </tr>\n",
       "  </tbody>\n",
       "</table>\n",
       "<p>74994 rows × 2 columns</p>\n",
       "</div>"
      ],
      "text/plain": [
       "         category                                               text\n",
       "0        Positive  I am coming to the borders and I will kill you...\n",
       "1        Positive  im getting on borderlands and i will kill you ...\n",
       "2        Positive  im coming on borderlands and i will murder you...\n",
       "3        Positive  im getting on borderlands 2 and i will murder ...\n",
       "4        Positive  im getting into borderlands and i can murder y...\n",
       "...           ...                                                ...\n",
       "75675  Irrelevant  ⭐️ Toronto is the arts and culture capital of ...\n",
       "75676  Irrelevant  tHIS IS ACTUALLY A GOOD MOVE TOT BRING MORE VI...\n",
       "75677    Positive  Today sucked so it’s time to drink wine n play...\n",
       "75678    Positive  Bought a fraction of Microsoft today. Small wins.\n",
       "75679     Neutral  Johnson & Johnson to stop selling talc baby po...\n",
       "\n",
       "[74994 rows x 2 columns]"
      ]
     },
     "execution_count": 45,
     "metadata": {},
     "output_type": "execute_result"
    }
   ],
   "source": [
    "df=df.dropna()\n",
    "df"
   ]
  },
  {
   "cell_type": "code",
   "execution_count": 46,
   "id": "6f3c4b04",
   "metadata": {},
   "outputs": [
    {
     "data": {
      "text/plain": [
       "category    0\n",
       "text        0\n",
       "dtype: int64"
      ]
     },
     "execution_count": 46,
     "metadata": {},
     "output_type": "execute_result"
    }
   ],
   "source": [
    "df.isnull().sum()"
   ]
  },
  {
   "cell_type": "code",
   "execution_count": 25,
   "id": "4d73506d",
   "metadata": {},
   "outputs": [],
   "source": [
    "def cleaning(text):\n",
    "    data=\"\".join([re.sub(\"[^a-zA-Z]\",\" \",char) for char in text])\n",
    "    return [d for d in data.split() if d.lower() not in stopwords.words('english') ]"
   ]
  },
  {
   "cell_type": "code",
   "execution_count": 27,
   "id": "acbf626e",
   "metadata": {},
   "outputs": [
    {
     "data": {
      "text/plain": [
       "['quick',\n",
       " 'brown',\n",
       " 'fox',\n",
       " 'jumped',\n",
       " 'lazy',\n",
       " 'dog',\n",
       " 'seem',\n",
       " 'impress',\n",
       " 'anyone',\n",
       " 'however',\n",
       " 'catch',\n",
       " 'attention',\n",
       " 'group',\n",
       " 'curious',\n",
       " 'onlookers',\n",
       " 'standing',\n",
       " 'nearby',\n",
       " 'watching',\n",
       " 'amazement']"
      ]
     },
     "execution_count": 27,
     "metadata": {},
     "output_type": "execute_result"
    }
   ],
   "source": [
    "cleaning('''\"The quick brown fox jumped over the lazy dog, but it didn't seem to impress anyone; however, it did catch the attention of a group of curious onlookers, who were standing nearby, watching with amazement!\"''')"
   ]
  },
  {
   "cell_type": "code",
   "execution_count": 29,
   "id": "ccf43d3f",
   "metadata": {},
   "outputs": [],
   "source": [
    "from sklearn.model_selection import train_test_split\n",
    "from sklearn.feature_extraction.text import TfidfTransformer\n",
    "from sklearn.feature_extraction.text import CountVectorizer"
   ]
  },
  {
   "cell_type": "code",
   "execution_count": null,
   "id": "e33c975f",
   "metadata": {},
   "outputs": [],
   "source": [
    "vec=CountVectorizer(analyzer=cleaning).fit(df['text'])\n",
    "bow_mes=vec.transform(df['text'])"
   ]
  },
  {
   "cell_type": "code",
   "execution_count": 49,
   "id": "e923dd79",
   "metadata": {},
   "outputs": [
    {
     "name": "stdout",
     "output_type": "stream",
     "text": [
      "  (0, 2481)\t1\n",
      "  (0, 2569)\t1\n",
      "  (0, 2676)\t1\n",
      "  (0, 4749)\t1\n",
      "  (0, 6573)\t1\n",
      "  (0, 15902)\t1\n",
      "  (0, 27511)\t1\n",
      "  (0, 27995)\t1\n",
      "  (0, 30399)\t1\n",
      "  (0, 31174)\t1\n",
      "  (1, 2481)\t1\n",
      "  (1, 2676)\t1\n",
      "  (1, 4744)\t1\n",
      "  (1, 12131)\t1\n",
      "  (1, 14291)\t1\n",
      "  (1, 15902)\t1\n",
      "  (1, 19848)\t1\n",
      "  (1, 30399)\t1\n",
      "  (1, 31174)\t1\n",
      "  (2, 2481)\t1\n",
      "  (2, 2676)\t1\n",
      "  (2, 4744)\t1\n",
      "  (2, 6573)\t1\n",
      "  (2, 14291)\t1\n",
      "  (2, 18693)\t1\n",
      "  :\t:\n",
      "  (74991, 29164)\t1\n",
      "  (74991, 30424)\t1\n",
      "  (74992, 4798)\t1\n",
      "  (74992, 11433)\t1\n",
      "  (74992, 18029)\t1\n",
      "  (74992, 19714)\t1\n",
      "  (74992, 25480)\t1\n",
      "  (74992, 28005)\t1\n",
      "  (74992, 30440)\t1\n",
      "  (74993, 1004)\t1\n",
      "  (74993, 2676)\t1\n",
      "  (74993, 3628)\t1\n",
      "  (74993, 5415)\t1\n",
      "  (74993, 6377)\t1\n",
      "  (74993, 9180)\t1\n",
      "  (74993, 13965)\t1\n",
      "  (74993, 14413)\t1\n",
      "  (74993, 15426)\t2\n",
      "  (74993, 18561)\t1\n",
      "  (74993, 21466)\t1\n",
      "  (74993, 23383)\t1\n",
      "  (74993, 24610)\t1\n",
      "  (74993, 26381)\t1\n",
      "  (74993, 27086)\t1\n",
      "  (74993, 27995)\t1\n"
     ]
    }
   ],
   "source": [
    "tra=TfidfTransformer().fit(bow_mes)\n",
    "tfid4=tra.transform(bow_mes)"
   ]
  },
  {
   "cell_type": "code",
   "execution_count": null,
   "id": "f92fe3bb",
   "metadata": {},
   "outputs": [],
   "source": [
    "from sklearn.model_selection import train_test_split\n",
    "x_train,x_test,y_train,y_test(df['text'],df['category'],test_size=0.25,shuffle=True)\n",
    "import Pipeline\n",
    "piepline=Pipeline([\n",
    "    ('vect',CountVectorizer(analyzer=cleaning)),\n",
    "    ('norm',TfidfTransformer()),\n",
    "    ('clf',KnnClassifier())\n",
    "])"
   ]
  }
 ],
 "metadata": {
  "kernelspec": {
   "display_name": "Python 3 (ipykernel)",
   "language": "python",
   "name": "python3"
  },
  "language_info": {
   "codemirror_mode": {
    "name": "ipython",
    "version": 3
   },
   "file_extension": ".py",
   "mimetype": "text/x-python",
   "name": "python",
   "nbconvert_exporter": "python",
   "pygments_lexer": "ipython3",
   "version": "3.11.3"
  }
 },
 "nbformat": 4,
 "nbformat_minor": 5
}
