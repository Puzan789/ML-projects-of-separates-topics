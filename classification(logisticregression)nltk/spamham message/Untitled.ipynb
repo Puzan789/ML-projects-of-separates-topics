{
 "cells": [
  {
   "cell_type": "code",
   "execution_count": 1,
   "id": "625bd2ff",
   "metadata": {},
   "outputs": [],
   "source": [
    "import pandas as pd\n",
    "import numpy as np\n",
    "import matplotlib.pyplot as plt\n",
    "from sklearn.model_selection import train_test_split\n",
    "from sklearn.linear_model import LogisticRegression\n",
    "import nltk\n",
    "from nltk.corpus import stopwords\n",
    "from nltk.stem import PorterStemmer\n",
    "from sklearn.feature_extraction.text import TfidfVectorizer\n",
    "from sklearn.pipeline import Pipeline\n",
    "from sklearn.feature_selection import chi2,SelectKBest\n",
    "from sklearn.metrics import classification_report,confusion_matrix\n",
    "import re"
   ]
  },
  {
   "cell_type": "code",
   "execution_count": 2,
   "id": "7caeb253",
   "metadata": {},
   "outputs": [],
   "source": [
    "df=pd.read_csv('spam.csv',encoding='ISO-8859-1',usecols=['v1','v2'])"
   ]
  },
  {
   "cell_type": "code",
   "execution_count": 3,
   "id": "14b2fdec",
   "metadata": {},
   "outputs": [],
   "source": [
    "df.info()"
   ]
  },
  {
   "cell_type": "code",
   "execution_count": 3,
   "id": "acc2aaef",
   "metadata": {},
   "outputs": [
    {
     "data": {
      "text/plain": [
       "<Axes: xlabel='v1'>"
      ]
     },
     "execution_count": 3,
     "metadata": {},
     "output_type": "execute_result"
    },
    {
     "data": {
      "image/png": "[encoded data removed]",
      "text/plain": [
       "<Figure size 640x480 with 1 Axes>"
      ]
     },
     "metadata": {},
     "output_type": "display_data"
    }
   ],
   "source": [
    "df.groupby('v1').v2.count().plot.bar()"
   ]
  },
  {
   "cell_type": "code",
   "execution_count": 5,
   "id": "6a92a950",
   "metadata": {},
   "outputs": [],
   "source": [
    "df"
   ]
  },
  {
   "cell_type": "code",
   "execution_count": 4,
   "id": "a03fb474",
   "metadata": {},
   "outputs": [
    {
     "name": "stdout",
     "output_type": "stream",
     "text": [
      "<PorterStemmer>\n"
     ]
    }
   ],
   "source": [
    "words=stopwords.words('english')\n",
    "stemmer=PorterStemmer()\n",
    "print(stemmer)"
   ]
  },
  {
   "cell_type": "code",
   "execution_count": 5,
   "id": "3e252e5d",
   "metadata": {},
   "outputs": [],
   "source": [
    "df['message']=df['v2'].apply(lambda x : \" \".join([stemmer.stem(i) for i in re.sub(\"[^a-zA-z]\",\" \",x).split() if i not in words ]).lower())"
   ]
  },
  {
   "cell_type": "code",
   "execution_count": 8,
   "id": "a00f3117",
   "metadata": {},
   "outputs": [],
   "source": [
    "df"
   ]
  },
  {
   "cell_type": "code",
   "execution_count": 6,
   "id": "a30f3057",
   "metadata": {},
   "outputs": [],
   "source": [
    "# Training our dataset\n",
    "# regressor=LogisticRegression()\n",
    "vectorizer=TfidfVectorizer(stop_words='english')\n",
    "x=df['message'].values\n",
    "y=df['v1'].values\n",
    "x_train,x_test,y_train,y_test=train_test_split(x,y,test_size=0.30)\n",
    "# creating pipeline\n",
    "pipeline=Pipeline([\n",
    "    ('vect',vectorizer),\n",
    "    ('chi',SelectKBest(chi2,k=1200)),\n",
    "    ('clf',LogisticRegression(random_state=100))\n",
    "])\n",
    "model=pipeline.fit(x_train,y_train)"
   ]
  },
  {
   "cell_type": "code",
   "execution_count": 7,
   "id": "abae2f2e",
   "metadata": {},
   "outputs": [
    {
     "name": "stdout",
     "output_type": "stream",
     "text": [
      "0.9617224880382775\n"
     ]
    }
   ],
   "source": [
    "# Accuracy\n",
    "from sklearn.metrics import accuracy_score\n",
    "print(accuracy_score(y_test,model.predict(x_test)))"
   ]
  },
  {
   "cell_type": "code",
   "execution_count": 8,
   "id": "73637da6",
   "metadata": {},
   "outputs": [
    {
     "name": "stdout",
     "output_type": "stream",
     "text": [
      "enter text messagehello worlds you are beautiful\n"
     ]
    }
   ],
   "source": [
    "dp=[input('enter text message')]\n"
   ]
  },
  {
   "cell_type": "code",
   "execution_count": 9,
   "id": "156227ca",
   "metadata": {},
   "outputs": [
    {
     "data": {
      "text/plain": [
       "array(['ham'], dtype=object)"
      ]
     },
     "execution_count": 9,
     "metadata": {},
     "output_type": "execute_result"
    }
   ],
   "source": [
    "model.predict(dp)"
   ]
  },
  {
   "cell_type": "code",
   "execution_count": 10,
   "id": "6c5f23d5",
   "metadata": {},
   "outputs": [],
   "source": [
    "xp=pd.DataFrame(x_test)\n",
    "ns=xp.iloc[0:10].values"
   ]
  },
  {
   "cell_type": "code",
   "execution_count": 11,
   "id": "8b491786",
   "metadata": {},
   "outputs": [
    {
     "name": "stdout",
     "output_type": "stream",
     "text": [
      "actual v1 : ham predicted v1 : ['ham']  text = hey tell blake address carlo want meet i got lost answer phone\n",
      "actual v1 : ham predicted v1 : ['ham']  text = sorri batteri die yeah i\n",
      "actual v1 : ham predicted v1 : ['ham']  text = hi mate rv u hav nice hol messag say hello coz sent u age start drive stay road rvx\n",
      "actual v1 : ham predicted v1 : ['ham']  text = then buy\n",
      "actual v1 : ham predicted v1 : ['ham']  text = leav wif lar wan carri meh heavi is da num familiar _\n",
      "actual v1 : ham predicted v1 : ['ham']  text = anyth lor come\n",
      "actual v1 : ham predicted v1 : ['ham']  text = hi juan im come home fri hey of cours expect welcom parti lot present ill phone u get back load love nicki x x x x x x x x x\n",
      "actual v1 : ham predicted v1 : ['ham']  text = i back lemm know readi\n",
      "actual v1 : ham predicted v1 : ['ham']  text = dad went oredi\n",
      "actual v1 : ham predicted v1 : ['ham']  text = i dont know oh hope month\n"
     ]
    }
   ],
   "source": [
    "for i in range (len(ns)):\n",
    "    print(\"actual v1 :\",y_test[i],\"predicted v1 :\",model.predict(ns[i]),\" text =\" ,x_test[i])"
   ]
  },
  {
   "cell_type": "code",
   "execution_count": 15,
   "id": "9f22bdbf",
   "metadata": {},
   "outputs": [],
   "source": [
    "ns[0]"
   ]
  },
  {
   "cell_type": "code",
   "execution_count": 12,
   "id": "d56a8c52",
   "metadata": {},
   "outputs": [
    {
     "data": {
      "text/plain": [
       "array(['hey tell blake address carlo want meet i got lost answer phone',\n",
       "       'sorri batteri die yeah i',\n",
       "       'hi mate rv u hav nice hol messag say hello coz sent u age start drive stay road rvx',\n",
       "       ..., 'aight text address', 'i sent lt gt buck',\n",
       "       'good afternoon love it good see word ym get tm veri smart move slave smile i drink coffe await'],\n",
       "      dtype=object)"
      ]
     },
     "execution_count": 12,
     "metadata": {},
     "output_type": "execute_result"
    }
   ],
   "source": [
    "x_test"
   ]
  },
  {
   "cell_type": "code",
   "execution_count": 13,
   "id": "c5ac574d",
   "metadata": {},
   "outputs": [
    {
     "name": "stdout",
     "output_type": "stream",
     "text": [
      "0.9617224880382775\n"
     ]
    }
   ],
   "source": [
    "from sklearn.metrics import accuracy_score\n",
    "print(accuracy_score(y_test,model.predict(x_test)))"
   ]
  },
  {
   "cell_type": "code",
   "execution_count": 14,
   "id": "f904739c",
   "metadata": {},
   "outputs": [
    {
     "name": "stdout",
     "output_type": "stream",
     "text": [
      "              precision    recall  f1-score   support\n",
      "\n",
      "         ham       1.00      0.96      0.98      1512\n",
      "        spam       0.72      0.99      0.83       160\n",
      "\n",
      "    accuracy                           0.96      1672\n",
      "   macro avg       0.86      0.98      0.91      1672\n",
      "weighted avg       0.97      0.96      0.96      1672\n",
      "\n",
      "[[1449   63]\n",
      " [   1  159]]\n"
     ]
    }
   ],
   "source": [
    "print(classification_report(model.predict(x_test),y_test))\n",
    "print(confusion_matrix(model.predict(x_test),y_test))"
   ]
  },
  {
   "cell_type": "code",
   "execution_count": null,
   "id": "38eae270",
   "metadata": {},
   "outputs": [],
   "source": []
  }
 ],
 "metadata": {
  "kernelspec": {
   "display_name": "Python 3 (ipykernel)",
   "language": "python",
   "name": "python3"
  },
  "language_info": {
   "codemirror_mode": {
    "name": "ipython",
    "version": 3
   },
   "file_extension": ".py",
   "mimetype": "text/x-python",
   "name": "python",
   "nbconvert_exporter": "python",
   "pygments_lexer": "ipython3",
   "version": "3.11.3"
  }
 },
 "nbformat": 4,
 "nbformat_minor": 5
}
