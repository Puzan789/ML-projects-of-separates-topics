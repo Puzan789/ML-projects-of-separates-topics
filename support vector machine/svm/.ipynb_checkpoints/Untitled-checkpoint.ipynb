{
 "cells": [
  {
   "cell_type": "code",
   "execution_count": 6,
   "id": "fa10a70a",
   "metadata": {},
   "outputs": [],
   "source": [
    "import pandas as pd\n",
    "import numpy as np\n",
    "import matplotlib.pyplot as plt\n",
    "import string\n",
    "from sklearn.feature_extraction.text import CountVectorizer\n",
    "import nltk\n",
    "from nltk.corpus import stopwords"
   ]
  },
  {
   "cell_type": "code",
   "execution_count": 2,
   "id": "4473fae1",
   "metadata": {},
   "outputs": [
    {
     "data": {
      "text/html": [
       "<div>\n",
       "<style scoped>\n",
       "    .dataframe tbody tr th:only-of-type {\n",
       "        vertical-align: middle;\n",
       "    }\n",
       "\n",
       "    .dataframe tbody tr th {\n",
       "        vertical-align: top;\n",
       "    }\n",
       "\n",
       "    .dataframe thead th {\n",
       "        text-align: right;\n",
       "    }\n",
       "</style>\n",
       "<table border=\"1\" class=\"dataframe\">\n",
       "  <thead>\n",
       "    <tr style=\"text-align: right;\">\n",
       "      <th></th>\n",
       "      <th>Sentence</th>\n",
       "      <th>Sentiment</th>\n",
       "    </tr>\n",
       "  </thead>\n",
       "  <tbody>\n",
       "    <tr>\n",
       "      <th>0</th>\n",
       "      <td>The GeoSolutions technology will leverage Bene...</td>\n",
       "      <td>positive</td>\n",
       "    </tr>\n",
       "    <tr>\n",
       "      <th>1</th>\n",
       "      <td>$ESI on lows, down $1.50 to $2.50 BK a real po...</td>\n",
       "      <td>negative</td>\n",
       "    </tr>\n",
       "    <tr>\n",
       "      <th>2</th>\n",
       "      <td>For the last quarter of 2010 , Componenta 's n...</td>\n",
       "      <td>positive</td>\n",
       "    </tr>\n",
       "    <tr>\n",
       "      <th>3</th>\n",
       "      <td>According to the Finnish-Russian Chamber of Co...</td>\n",
       "      <td>neutral</td>\n",
       "    </tr>\n",
       "    <tr>\n",
       "      <th>4</th>\n",
       "      <td>The Swedish buyout firm has sold its remaining...</td>\n",
       "      <td>neutral</td>\n",
       "    </tr>\n",
       "    <tr>\n",
       "      <th>...</th>\n",
       "      <td>...</td>\n",
       "      <td>...</td>\n",
       "    </tr>\n",
       "    <tr>\n",
       "      <th>5837</th>\n",
       "      <td>RISING costs have forced packaging producer Hu...</td>\n",
       "      <td>negative</td>\n",
       "    </tr>\n",
       "    <tr>\n",
       "      <th>5838</th>\n",
       "      <td>Nordic Walking was first used as a summer trai...</td>\n",
       "      <td>neutral</td>\n",
       "    </tr>\n",
       "    <tr>\n",
       "      <th>5839</th>\n",
       "      <td>According shipping company Viking Line , the E...</td>\n",
       "      <td>neutral</td>\n",
       "    </tr>\n",
       "    <tr>\n",
       "      <th>5840</th>\n",
       "      <td>In the building and home improvement trade , s...</td>\n",
       "      <td>neutral</td>\n",
       "    </tr>\n",
       "    <tr>\n",
       "      <th>5841</th>\n",
       "      <td>HELSINKI AFX - KCI Konecranes said it has won ...</td>\n",
       "      <td>positive</td>\n",
       "    </tr>\n",
       "  </tbody>\n",
       "</table>\n",
       "<p>5842 rows × 2 columns</p>\n",
       "</div>"
      ],
      "text/plain": [
       "                                               Sentence Sentiment\n",
       "0     The GeoSolutions technology will leverage Bene...  positive\n",
       "1     $ESI on lows, down $1.50 to $2.50 BK a real po...  negative\n",
       "2     For the last quarter of 2010 , Componenta 's n...  positive\n",
       "3     According to the Finnish-Russian Chamber of Co...   neutral\n",
       "4     The Swedish buyout firm has sold its remaining...   neutral\n",
       "...                                                 ...       ...\n",
       "5837  RISING costs have forced packaging producer Hu...  negative\n",
       "5838  Nordic Walking was first used as a summer trai...   neutral\n",
       "5839  According shipping company Viking Line , the E...   neutral\n",
       "5840  In the building and home improvement trade , s...   neutral\n",
       "5841  HELSINKI AFX - KCI Konecranes said it has won ...  positive\n",
       "\n",
       "[5842 rows x 2 columns]"
      ]
     },
     "execution_count": 2,
     "metadata": {},
     "output_type": "execute_result"
    }
   ],
   "source": [
    "df=pd.read_csv('data.csv')\n",
    "df"
   ]
  },
  {
   "cell_type": "code",
   "execution_count": 3,
   "id": "e0481d91",
   "metadata": {},
   "outputs": [
    {
     "data": {
      "text/plain": [
       "Sentence     0\n",
       "Sentiment    0\n",
       "dtype: int64"
      ]
     },
     "execution_count": 3,
     "metadata": {},
     "output_type": "execute_result"
    }
   ],
   "source": [
    "df.isnull().sum()"
   ]
  },
  {
   "cell_type": "code",
   "execution_count": 4,
   "id": "5e459de9",
   "metadata": {},
   "outputs": [],
   "source": [
    "from sklearn.model_selection import train_test_split\n",
    "x_train,x_test,y_train,y_test=train_test_split(df['Sentence'],df['Sentiment'],train_size=0.20,random_state=234)"
   ]
  },
  {
   "cell_type": "code",
   "execution_count": 8,
   "id": "a989016b",
   "metadata": {},
   "outputs": [],
   "source": [
    "\n",
    "def cleaning(text):\n",
    "    data=\"\".join([d for d in text if d not in string.punctuation])\n",
    "    return [i for i in data.split() if i not in stopwords.words('english')]"
   ]
  },
  {
   "cell_type": "code",
   "execution_count": 9,
   "id": "d762487c",
   "metadata": {},
   "outputs": [],
   "source": [
    "bow_fit=CountVectorizer(analyzer=cleaning).fit(x_train)\n",
    "bow_transform=bow_fit.transform(x_train)"
   ]
  },
  {
   "cell_type": "code",
   "execution_count": 10,
   "id": "29601bf4",
   "metadata": {},
   "outputs": [
    {
     "name": "stdout",
     "output_type": "stream",
     "text": [
      "[[0 0 0 ... 0 0 0]\n",
      " [0 0 0 ... 0 0 0]\n",
      " [0 0 0 ... 0 0 0]\n",
      " ...\n",
      " [0 0 0 ... 0 0 0]\n",
      " [0 0 0 ... 0 0 0]\n",
      " [0 0 0 ... 0 0 0]]\n"
     ]
    }
   ],
   "source": [
    "print(bow_transform.toarray())"
   ]
  },
  {
   "cell_type": "code",
   "execution_count": 11,
   "id": "60a49838",
   "metadata": {},
   "outputs": [
    {
     "name": "stdout",
     "output_type": "stream",
     "text": [
      "  (0, 5263)\t0.28649030012866783\n",
      "  (0, 5262)\t0.28649030012866783\n",
      "  (0, 5197)\t0.28649030012866783\n",
      "  (0, 4432)\t0.19898595257913865\n",
      "  (0, 4388)\t0.28649030012866783\n",
      "  (0, 3599)\t0.2595487051616196\n",
      "  (0, 2989)\t0.2707304773633268\n",
      "  (0, 2704)\t0.2707304773633268\n",
      "  (0, 2265)\t0.22022928961018995\n",
      "  (0, 1896)\t0.28649030012866783\n",
      "  (0, 1786)\t0.28649030012866783\n",
      "  (0, 1275)\t0.28649030012866783\n",
      "  (0, 753)\t0.28649030012866783\n",
      "  (0, 596)\t0.20330912678388927\n",
      "  (1, 4658)\t0.4214764432100066\n",
      "  (1, 4326)\t0.3025693009854748\n",
      "  (1, 3907)\t0.4214764432100066\n",
      "  (1, 2900)\t0.4214764432100066\n",
      "  (1, 2795)\t0.4214764432100066\n",
      "  (1, 2325)\t0.1422668520646029\n",
      "  (1, 199)\t0.4214764432100066\n",
      "  (2, 5226)\t0.28308691688744836\n",
      "  (2, 3315)\t0.36924638032984053\n",
      "  (2, 3194)\t0.28308691688744836\n",
      "  (2, 2873)\t0.38515410334692207\n",
      "  :\t:\n",
      "  (1166, 2187)\t0.23060076500849985\n",
      "  (1166, 2166)\t0.23060076500849985\n",
      "  (1166, 1573)\t0.24402454803241408\n",
      "  (1166, 1408)\t0.24402454803241408\n",
      "  (1166, 1291)\t0.24402454803241408\n",
      "  (1166, 1248)\t0.24402454803241408\n",
      "  (1166, 925)\t0.24402454803241408\n",
      "  (1166, 818)\t0.24402454803241408\n",
      "  (1166, 779)\t0.4421528787607615\n",
      "  (1166, 774)\t0.24402454803241408\n",
      "  (1167, 5071)\t0.24174687087478033\n",
      "  (1167, 4972)\t0.27606580842270584\n",
      "  (1167, 4933)\t0.2608794366315546\n",
      "  (1167, 4566)\t0.27606580842270584\n",
      "  (1167, 4476)\t0.2608794366315546\n",
      "  (1167, 4357)\t0.27606580842270584\n",
      "  (1167, 4168)\t0.25010453437107166\n",
      "  (1167, 3946)\t0.27606580842270584\n",
      "  (1167, 3679)\t0.25010453437107166\n",
      "  (1167, 3677)\t0.21973179078876925\n",
      "  (1167, 2929)\t0.2608794366315546\n",
      "  (1167, 2845)\t0.24174687087478033\n",
      "  (1167, 2720)\t0.21973179078876925\n",
      "  (1167, 588)\t0.27606580842270584\n",
      "  (1167, 312)\t0.27606580842270584\n"
     ]
    }
   ],
   "source": [
    "from sklearn.feature_extraction.text import TfidfTransformer\n",
    "transformed=TfidfTransformer().fit(bow_transform)\n",
    "tfid4=transformed.transform(bow_transform)\n",
    "print(tfid4)"
   ]
  },
  {
   "cell_type": "code",
   "execution_count": 13,
   "id": "ce72b53a",
   "metadata": {},
   "outputs": [],
   "source": [
    "from sklearn.svm import SVC"
   ]
  },
  {
   "cell_type": "code",
   "execution_count": 20,
   "id": "210ba319",
   "metadata": {},
   "outputs": [],
   "source": [
    "bow_test = bow_fit.transform(x_test)\n",
    "tfidf_test = transformed.transform(bow_test)\n",
    "predictions = svc.predict(tfidf_test)"
   ]
  },
  {
   "cell_type": "code",
   "execution_count": 21,
   "id": "e1056d2a",
   "metadata": {},
   "outputs": [
    {
     "data": {
      "text/plain": [
       "array(['neutral', 'neutral', 'neutral', ..., 'positive', 'neutral',\n",
       "       'neutral'], dtype=object)"
      ]
     },
     "execution_count": 21,
     "metadata": {},
     "output_type": "execute_result"
    }
   ],
   "source": [
    "predictions"
   ]
  },
  {
   "cell_type": "code",
   "execution_count": 23,
   "id": "5f040063",
   "metadata": {},
   "outputs": [],
   "source": [
    "from sklearn.metrics import accuracy_score,confusion_matrix,classification_report"
   ]
  },
  {
   "cell_type": "code",
   "execution_count": 24,
   "id": "63b358a7",
   "metadata": {},
   "outputs": [
    {
     "name": "stdout",
     "output_type": "stream",
     "text": [
      "0.5755241762943946\n",
      "[[  12  608   71]\n",
      " [  74 2364   59]\n",
      " [   5 1167  314]]\n",
      "              precision    recall  f1-score   support\n",
      "\n",
      "    negative       0.13      0.02      0.03       691\n",
      "     neutral       0.57      0.95      0.71      2497\n",
      "    positive       0.71      0.21      0.33      1486\n",
      "\n",
      "    accuracy                           0.58      4674\n",
      "   macro avg       0.47      0.39      0.36      4674\n",
      "weighted avg       0.55      0.58      0.49      4674\n",
      "\n"
     ]
    }
   ],
   "source": [
    "print(accuracy_score(y_test,predictions))\n",
    "print(confusion_matrix(y_test,predictions))\n",
    "print(classification_report(y_test,predictions))"
   ]
  },
  {
   "cell_type": "code",
   "execution_count": null,
   "id": "8cb4a567",
   "metadata": {},
   "outputs": [],
   "source": []
  }
 ],
 "metadata": {
  "kernelspec": {
   "display_name": "Python 3 (ipykernel)",
   "language": "python",
   "name": "python3"
  },
  "language_info": {
   "codemirror_mode": {
    "name": "ipython",
    "version": 3
   },
   "file_extension": ".py",
   "mimetype": "text/x-python",
   "name": "python",
   "nbconvert_exporter": "python",
   "pygments_lexer": "ipython3",
   "version": "3.11.3"
  }
 },
 "nbformat": 4,
 "nbformat_minor": 5
}
